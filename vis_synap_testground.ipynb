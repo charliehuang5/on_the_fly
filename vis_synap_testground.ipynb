{
 "cells": [
  {
   "cell_type": "code",
   "execution_count": 3,
   "metadata": {},
   "outputs": [],
   "source": [
    "import numpy as np\n",
    "import matplotlib.pyplot as plt\n",
    "import pandas as pd\n",
    "import scipy.io\n",
    "import os\n",
    "import csv\n",
    "import utils"
   ]
  },
  {
   "cell_type": "code",
   "execution_count": 4,
   "metadata": {},
   "outputs": [],
   "source": [
    "all_synaps_file = '/Users/charliehuang/Documents/murthy_lab/projects/on_the_fly/albert_fdasynapses_copy/v783/all_syn/all_syn_34M_in_FDA.npy'\n",
    "\n",
    "fru_fda_path = '/Users/charliehuang/Documents/murthy_lab/projects/on_the_fly/albert_fdasynapses_copy/v783/fru_dsx/'\n",
    "fru_boutons_file = 'fru_PRE_in_FDA.npy'\n",
    "fru_dendrites_file = 'fru_POST_in_FDA.npy'\n",
    "\n",
    "fru_boutons = np.load(fru_fda_path + fru_boutons_file)\n",
    "fru_dendrites = np.load(fru_fda_path + fru_dendrites_file)\n",
    "all_synaps = np.load(all_synaps_file)"
   ]
  },
  {
   "cell_type": "code",
   "execution_count": null,
   "metadata": {},
   "outputs": [],
   "source": []
  },
  {
   "cell_type": "code",
   "execution_count": null,
   "metadata": {},
   "outputs": [],
   "source": [
    "gen_data_dir = \"../gen_data/\"\n",
    "fru_root_ids = list(pd.read_csv(gen_data_dir+'root_ids_gene_equal_Fruitless.txt').columns)\n",
    "fru_set = set(fru_root_ids)"
   ]
  },
  {
   "cell_type": "code",
   "execution_count": null,
   "metadata": {},
   "outputs": [],
   "source": []
  },
  {
   "cell_type": "code",
   "execution_count": 3,
   "metadata": {},
   "outputs": [],
   "source": [
    "# early_df = pd.read_csv(file_oi)"
   ]
  },
  {
   "cell_type": "code",
   "execution_count": 4,
   "metadata": {},
   "outputs": [],
   "source": [
    "early_df"
   ]
  },
  {
   "cell_type": "code",
   "execution_count": null,
   "metadata": {},
   "outputs": [],
   "source": [
    "df = pd.read_csv(file_oi, dtype={'pre_root_id': 'str', 'post_root_id': 'str'})\n",
    "# types are str, str, np.int64, np.int64"
   ]
  },
  {
   "cell_type": "code",
   "execution_count": null,
   "metadata": {},
   "outputs": [],
   "source": [
    "df_dendrites = df[df['post_root_id'].notna()]\n",
    "df_synapses = df[(df['pre_root_id'].notna()) & (df['post_root_id'].notna())]\n",
    "\n",
    "# df_synapses = df[(df['pre_root_id'].notna()) & (df['post_root_id'].notna())]\n",
    "# df_dendr_fru = df_dendrites[df_dendrites['post_root_id'].isin(fru_set)]\n",
    "# # df_dendr_fru_X = df_dendrites[~df_dendrites['post_root_id'].isin(fru_set)]\n",
    "\n",
    "# df_synapses_fru_both = df_synapses[df_synapses['pre_root_id'].isin(fru_set) & df_synapses['post_root_id'].isin(fru_set)]\n",
    "# df_synapses_fru_either = df_synapses[df_synapses['pre_root_id'].isin(fru_set) | df_synapses['post_root_id'].isin(fru_set)]\n",
    "# df_synapses_fru_pre_only = df_synapses[df_synapses['pre_root_id'].isin(fru_set) & ~df_synapses['post_root_id'].isin(fru_set)]\n",
    "# df_synapses_fru_post_only = df_synapses[~df_synapses['pre_root_id'].isin(fru_set) & df_synapses['post_root_id'].isin(fru_set)]"
   ]
  },
  {
   "cell_type": "code",
   "execution_count": 59,
   "metadata": {},
   "outputs": [],
   "source": [
    "\n",
    "\n",
    "printshap = lambda x: print(x.shape[0])\n",
    "\n",
    "for lis in [df_dendr_fru, df_synapses_fru_both, df_synapses_fru_either, df_synapses_fru_pre_only, df_synapses_fru_post_only]:\n",
    "    printshap(lis)"
   ]
  },
  {
   "cell_type": "code",
   "execution_count": 78,
   "metadata": {},
   "outputs": [],
   "source": [
    "synap_coords_post = df_dendr_fru[['x','y','z']].to_numpy()\n",
    "synap_coords_either = df_synapses_fru_either[['x','y','z']].to_numpy()\n",
    "\n",
    "x = synap_coords[:,0]\n",
    "y = synap_coords[:,1]\n",
    "z = synap_coords[:,2]"
   ]
  },
  {
   "cell_type": "code",
   "execution_count": 77,
   "metadata": {},
   "outputs": [],
   "source": []
  },
  {
   "cell_type": "code",
   "execution_count": 79,
   "metadata": {},
   "outputs": [],
   "source": [
    "interactive_plot(synap_coords_post[:,0], synap_coords_post[:,1], synap_coords_post[:,2])"
   ]
  }
 ],
 "metadata": {
  "kernelspec": {
   "display_name": "drosophila",
   "language": "python",
   "name": "python3"
  },
  "language_info": {
   "codemirror_mode": {
    "name": "ipython",
    "version": 3
   },
   "file_extension": ".py",
   "mimetype": "text/x-python",
   "name": "python",
   "nbconvert_exporter": "python",
   "pygments_lexer": "ipython3",
   "version": "3.13.2"
  }
 },
 "nbformat": 4,
 "nbformat_minor": 2
}
